{
 "cells": [
  {
   "cell_type": "code",
   "execution_count": 1,
   "id": "bec9951e-c548-43eb-9da3-7972f7dff1c3",
   "metadata": {},
   "outputs": [],
   "source": [
    "import gurobipy as gp\n",
    "from gurobipy import GRB"
   ]
  },
  {
   "cell_type": "code",
   "execution_count": 2,
   "id": "dfed97a5-1c1d-4636-b4a5-12d6b3bcb7e2",
   "metadata": {},
   "outputs": [
    {
     "name": "stdout",
     "output_type": "stream",
     "text": [
      "Set parameter Username\n",
      "Academic license - for non-commercial use only - expires 2025-04-16\n",
      "Warning: Gurobi version mismatch between Python 11.0.3 and C library 11.0.1\n"
     ]
    }
   ],
   "source": [
    "m = gp.Model()\n",
    "\n",
    "# x[i,j] = 1 if block cell (i,j)\n",
    "x = m.addVars( 5, 5, vtype=GRB.BINARY)"
   ]
  },
  {
   "cell_type": "code",
   "execution_count": 3,
   "id": "8c50cf1a-5bd3-469d-9451-40c065c5393f",
   "metadata": {},
   "outputs": [
    {
     "name": "stderr",
     "output_type": "stream",
     "text": [
      "C:\\Users\\buchanan\\AppData\\Local\\Temp\\ipykernel_12852\\2644876674.py:2: DeprecationWarning: Calling quicksum on a tupledict is deprecated, use .sum() instead.\n",
      "  m.setObjective( gp.quicksum(x), GRB.MINIMIZE )\n"
     ]
    }
   ],
   "source": [
    "# minimize number of blocked cells\n",
    "m.setObjective( gp.quicksum(x), GRB.MINIMIZE )"
   ]
  },
  {
   "cell_type": "code",
   "execution_count": 4,
   "id": "872bf346-ce28-4e92-9c4f-cb2d878f2df2",
   "metadata": {},
   "outputs": [],
   "source": [
    "# block something from each column\n",
    "m.addConstrs( gp.quicksum( x[i,j] for i in range(5) ) >= 1 for j in range(5) )\n",
    "\n",
    "# block something from each row\n",
    "m.addConstrs( gp.quicksum( x[i,j] for j in range(5) ) >= 1 for i in range(5) )\n",
    "\n",
    "# block something from each diagonal\n",
    "m.addConstr( gp.quicksum( x[j,j] for j in range(5) ) >= 1 )\n",
    "m.addConstr( gp.quicksum( x[j,4-j] for j in range(5) ) >= 1 )\n",
    "\n",
    "# cannot block free space\n",
    "x[2,2].UB = 0"
   ]
  },
  {
   "cell_type": "code",
   "execution_count": 5,
   "id": "ab23e884-1e83-42c9-8ac0-4e2278d19449",
   "metadata": {},
   "outputs": [
    {
     "name": "stdout",
     "output_type": "stream",
     "text": [
      "Gurobi Optimizer version 11.0.1 build v11.0.1rc0 (win64 - Windows 11.0 (22631.2))\n",
      "\n",
      "CPU model: 13th Gen Intel(R) Core(TM) i9-13900K, instruction set [SSE2|AVX|AVX2]\n",
      "Thread count: 24 physical cores, 32 logical processors, using up to 32 threads\n",
      "\n",
      "Optimize a model with 12 rows, 25 columns and 60 nonzeros\n",
      "Model fingerprint: 0x39328e48\n",
      "Variable types: 0 continuous, 25 integer (25 binary)\n",
      "Coefficient statistics:\n",
      "  Matrix range     [1e+00, 1e+00]\n",
      "  Objective range  [1e+00, 1e+00]\n",
      "  Bounds range     [1e+00, 1e+00]\n",
      "  RHS range        [1e+00, 1e+00]\n",
      "Found heuristic solution: objective 9.0000000\n",
      "Presolve removed 0 rows and 1 columns\n",
      "Presolve time: 0.00s\n",
      "Presolved: 12 rows, 24 columns, 56 nonzeros\n",
      "Variable types: 0 continuous, 24 integer (24 binary)\n",
      "\n",
      "Root relaxation: objective 5.000000e+00, 15 iterations, 0.00 seconds (0.00 work units)\n",
      "\n",
      "    Nodes    |    Current Node    |     Objective Bounds      |     Work\n",
      " Expl Unexpl |  Obj  Depth IntInf | Incumbent    BestBd   Gap | It/Node Time\n",
      "\n",
      "*    0     0               0       5.0000000    5.00000  0.00%     -    0s\n",
      "\n",
      "Explored 1 nodes (15 simplex iterations) in 0.00 seconds (0.00 work units)\n",
      "Thread count was 32 (of 32 available processors)\n",
      "\n",
      "Solution count 2: 5 9 \n",
      "\n",
      "Optimal solution found (tolerance 1.00e-04)\n",
      "Best objective 5.000000000000e+00, best bound 5.000000000000e+00, gap 0.0000%\n"
     ]
    }
   ],
   "source": [
    "m.optimize()"
   ]
  },
  {
   "cell_type": "code",
   "execution_count": 6,
   "id": "ea9f624b-a60f-474f-8743-df5bc8aba046",
   "metadata": {},
   "outputs": [],
   "source": [
    "import numpy as np\n",
    "a = np.zeros((5,5))\n",
    "for i in range(5):\n",
    "    for j in range(5):\n",
    "        a[i,j] = round( 1 - x[i,j].x )"
   ]
  },
  {
   "cell_type": "code",
   "execution_count": 7,
   "id": "f6ee4ca0-f897-43af-8596-4e228c3b9d2f",
   "metadata": {},
   "outputs": [
    {
     "data": {
      "text/plain": [
       "<matplotlib.image.AxesImage at 0x1fe82b80e90>"
      ]
     },
     "execution_count": 7,
     "metadata": {},
     "output_type": "execute_result"
    },
    {
     "data": {
      "image/png": "[encoded data removed]",
      "text/plain": [
       "<Figure size 640x480 with 1 Axes>"
      ]
     },
     "metadata": {},
     "output_type": "display_data"
    }
   ],
   "source": [
    "import matplotlib.pyplot as plt\n",
    "plt.ion()\n",
    "plt.imshow(a, cmap='gray', interpolation='none')"
   ]
  },
  {
   "cell_type": "code",
   "execution_count": null,
   "id": "55e5e49b-f62e-451c-a6ac-af2a46744dd6",
   "metadata": {},
   "outputs": [],
   "source": []
  }
 ],
 "metadata": {
  "kernelspec": {
   "display_name": "Python 3 (ipykernel)",
   "language": "python",
   "name": "python3"
  },
  "language_info": {
   "codemirror_mode": {
    "name": "ipython",
    "version": 3
   },
   "file_extension": ".py",
   "mimetype": "text/x-python",
   "name": "python",
   "nbconvert_exporter": "python",
   "pygments_lexer": "ipython3",
   "version": "3.11.7"
  }
 },
 "nbformat": 4,
 "nbformat_minor": 5
}
